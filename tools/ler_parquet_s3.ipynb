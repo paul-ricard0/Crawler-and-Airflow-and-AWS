{
 "cells": [
  {
   "cell_type": "code",
   "execution_count": null,
   "metadata": {},
   "outputs": [],
   "source": [
    "import pandas as pd\n",
    "import io\n",
    "import os\n",
    "from datetime import datetime\n",
    "# AWS\n",
    "import boto3\n",
    "\n",
    "# Credenciais aws\n",
    "aws_access_key_id = os.environ[\"AWS_ACCESS_KEY_ID\"]\n",
    "aws_secret_access_key = os.environ[\"AWS_SECRET_ACCESS_KEY\"] \n",
    "\n",
    "# Bucket e Key (caminho) do arquivo no S3\n",
    "BUCKET_NAME='CCCCCCCCCCCC0336967'\n",
    "\n",
    "\n",
    "\n",
    "path_parquet = f'XXXXXXXXXXXXXXX/fat/year=2023/month=04/escritorio_venda_2023-04.parquet'\n",
    "\n",
    "\n",
    "#Configura a sessão do client da aws\n",
    "s3_resource = boto3.resource('s3',\n",
    "    region_name = \"us-east-1\",\n",
    "    aws_access_key_id=aws_access_key_id,\n",
    "    aws_secret_access_key=aws_secret_access_key)\n",
    "\n",
    "buffer = io.BytesIO()\n",
    "#Coletando dados da raw-zone e reconstruindo o json\n",
    "obj_buffer = s3_resource.Object(BUCKET_NAME,path_parquet)\n",
    "\n",
    "obj_buffer.download_fileobj(buffer)\n",
    "\n",
    "df = pd.read_parquet(buffer)\n",
    "\n",
    "df.head(10)"
   ]
  },
  {
   "cell_type": "code",
   "execution_count": null,
   "metadata": {},
   "outputs": [],
   "source": [
    "mes = '03'\n",
    "df['data'] = f'2023-{mes}-01'\n",
    "df['ultima_atualizacao'] = datetime.now().strftime('%Y-%m-%d %H:%M:%S')\n",
    "df = df.astype(str)\n",
    "df.head(10)"
   ]
  },
  {
   "cell_type": "code",
   "execution_count": null,
   "metadata": {},
   "outputs": [],
   "source": [
    "path_parquet = f'XXXXXXXXXXXXXXXXXXXXXX/escritorio_venda/fat/year=2023/month={mes}/escritorio_venda_2023-{mes}.parquet'"
   ]
  },
  {
   "cell_type": "code",
   "execution_count": null,
   "metadata": {},
   "outputs": [],
   "source": [
    "s3_client = boto3.client(\n",
    "    's3', \n",
    "    region_name='us-east-1',\n",
    "    aws_access_key_id=aws_access_key_id, \n",
    "    aws_secret_access_key=aws_secret_access_key \n",
    ")\n",
    "out_buffer = io.BytesIO() # criando espaço na memória\n",
    "df.to_parquet(out_buffer, index=False) # salvando na memória em formato parquet\n",
    "\n",
    "s3_client.put_object(Bucket=BUCKET_NAME, Key=path_parquet, Body=out_buffer.getvalue())"
   ]
  },
  {
   "cell_type": "code",
   "execution_count": null,
   "metadata": {},
   "outputs": [],
   "source": [
    "manifest_contents_new = f's3://{BUCKET_NAME}/{path_parquet}\\n'\n",
    "key_manifest = f'CCCCCCCCCCCCCCCCCCCCCCC/escritorio_venda/fat/_symlink_format_manifest/manifest2023-{mes}'\n",
    "print('manifest')\n",
    "s3_client.put_object(\n",
    "    Body=manifest_contents_new,\n",
    "    Bucket=BUCKET_NAME,\n",
    "    Key=key_manifest,\n",
    ")"
   ]
  },
  {
   "cell_type": "code",
   "execution_count": null,
   "metadata": {},
   "outputs": [],
   "source": [
    "key_manifest = ''"
   ]
  },
  {
   "cell_type": "code",
   "execution_count": null,
   "metadata": {},
   "outputs": [],
   "source": [
    "manifest_obj = s3_client.get_object(\n",
    "    Bucket=BUCKET_NAME,\n",
    "    Key=key_manifest\n",
    ")\n",
    "\n",
    "manifest_contents = manifest_obj['Body'].read( ).decode('utf-8')\n",
    "\n",
    "manifest_contents_new = f'{manifest_contents}s3://{BUCKET_NAME}/{path_parquet}\\n'   \n",
    "print(manifest_contents_new)"
   ]
  },
  {
   "cell_type": "code",
   "execution_count": null,
   "metadata": {},
   "outputs": [],
   "source": [
    "s3_client.put_object(\n",
    "    Body=manifest_contents_new,\n",
    "    Bucket=BUCKET_NAME,\n",
    "    Key=key_manifest,\n",
    ")"
   ]
  }
 ],
 "metadata": {
  "kernelspec": {
   "display_name": "base",
   "language": "python",
   "name": "python3"
  },
  "language_info": {
   "codemirror_mode": {
    "name": "ipython",
    "version": 3
   },
   "file_extension": ".py",
   "mimetype": "text/x-python",
   "name": "python",
   "nbconvert_exporter": "python",
   "pygments_lexer": "ipython3",
   "version": "3.9.16"
  },
  "orig_nbformat": 4,
  "vscode": {
   "interpreter": {
    "hash": "c1301ba4e95949f67d1395d1b6067daa319f81e9147f2999389056e4ba343f31"
   }
  }
 },
 "nbformat": 4,
 "nbformat_minor": 2
}
