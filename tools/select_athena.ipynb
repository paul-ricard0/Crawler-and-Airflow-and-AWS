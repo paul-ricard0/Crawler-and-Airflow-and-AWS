{
 "cells": [
  {
   "cell_type": "code",
   "execution_count": null,
   "metadata": {},
   "outputs": [],
   "source": [
    "import pyathena\n",
    "import pandas as pd\n",
    "import os\n",
    "\n",
    "# Credenciais aws\n",
    "aws_access_key_id = os.environ['AWS_ACCESS_KEY_ID']\n",
    "aws_secret_access_key = os.environ['AWS_SECRET_ACCESS_KEY']"
   ]
  },
  {
   "cell_type": "code",
   "execution_count": null,
   "metadata": {},
   "outputs": [],
   "source": [
    "# Directly by panda\n",
    "athena_conn = pyathena.connect(aws_access_key_id=aws_access_key_id, \n",
    "                 aws_secret_access_key=aws_secret_access_key, \n",
    "                 s3_staging_dir='s3://aws-athena-query-results-XXXXXXXXXXXXXXX-us-east-1/', \n",
    "                 region_name='us-east-1') \n",
    "\n",
    "\n",
    "print('CONXÃO FEITA COM SUCESSO!!!')"
   ]
  },
  {
   "cell_type": "code",
   "execution_count": null,
   "metadata": {},
   "outputs": [],
   "source": [
    "query = \"\"\"\n",
    "SELECT * \n",
    "FROM consumer_zone.escritorio_vendas\n",
    "order by data desc\n",
    "\"\"\"\n",
    "\n",
    "\n",
    "df = pd.read_sql(query, athena_conn)"
   ]
  },
  {
   "cell_type": "code",
   "execution_count": null,
   "metadata": {},
   "outputs": [],
   "source": [
    "df.head(10)"
   ]
  },
  {
   "cell_type": "code",
   "execution_count": null,
   "metadata": {},
   "outputs": [],
   "source": [
    "# excluindo as linhas com o nome \"PAULO\" na segunda coluna\n",
    "df = df.drop(df[df['data'] == '2023-04-01'].index)\n"
   ]
  },
  {
   "cell_type": "code",
   "execution_count": null,
   "metadata": {},
   "outputs": [],
   "source": [
    "df['filial_venda'] = df['filial_venda'].replace('FILIAL - EXPORTAÃÃO', 'Filial - EXPORTAÇÃO')"
   ]
  },
  {
   "cell_type": "code",
   "execution_count": null,
   "metadata": {},
   "outputs": [],
   "source": [
    "# removendo a coluna 'data_mes' do dataframe\n",
    "cols = df.columns"
   ]
  },
  {
   "cell_type": "code",
   "execution_count": null,
   "metadata": {},
   "outputs": [],
   "source": [
    "\n",
    "filtro = (df['data'] == '2023-01-01') \n",
    "df.loc[filtro, cols] = df.loc[df['data'] == '2023-03-01', cols].values\n",
    "# exibindo o dataframe após a atualização\n",
    "print(df)\n"
   ]
  },
  {
   "cell_type": "code",
   "execution_count": null,
   "metadata": {},
   "outputs": [],
   "source": [
    "# Credenciais aws\n",
    "BUCKET_NAME = 'XXXXXXXXXXXXXXXXX0336967'\n",
    "AWS_ACCESS_KEY_ID = os.environ['AWS_ACCESS_KEY_ID']\n",
    "AWS_SECRET_ACCESS_KEY = os.environ['AWS_SECRET_ACCESS_KEY'] \n",
    "import os, io\n",
    "\n",
    "import boto3\n",
    "\n",
    "s3_client=boto3.client(\n",
    "    's3', \n",
    "    region_name='us-east-1',\n",
    "    aws_access_key_id=AWS_ACCESS_KEY_ID, \n",
    "    aws_secret_access_key=AWS_SECRET_ACCESS_KEY \n",
    ")\n",
    "\n",
    "key_parquet_consumer = f'consumer-zone/XXXXXXXXXXXXXXX/escritorio_venda/fat/historico.parquet'\n",
    "key_manifest = f'consumer-zone/XXXXXXXXXXXXXXX/escritorio_venda/fat/_symlink_format_manifest/manifest_historico'\n"
   ]
  },
  {
   "cell_type": "code",
   "execution_count": null,
   "metadata": {},
   "outputs": [],
   "source": [
    "out_buffer = io.BytesIO() # criando espaço na memória\n",
    "df.to_parquet(out_buffer, index=False) # salvando na memória em formato parquet\n",
    "s3_client.put_object(Bucket=BUCKET_NAME, Key=key_parquet_consumer, Body=out_buffer.getvalue())"
   ]
  },
  {
   "cell_type": "code",
   "execution_count": null,
   "metadata": {},
   "outputs": [],
   "source": [
    "manifest_contents_new = f's3://{BUCKET_NAME}/{key_parquet_consumer}\\n'\n",
    "\n",
    "s3_client.put_object(\n",
    "    Body=manifest_contents_new,\n",
    "    Bucket=BUCKET_NAME,\n",
    "    Key=key_manifest,\n",
    ")"
   ]
  }
 ],
 "metadata": {
  "kernelspec": {
   "display_name": "my_venv",
   "language": "python",
   "name": "python3"
  },
  "language_info": {
   "codemirror_mode": {
    "name": "ipython",
    "version": 3
   },
   "file_extension": ".py",
   "mimetype": "text/x-python",
   "name": "python",
   "nbconvert_exporter": "python",
   "pygments_lexer": "ipython3",
   "version": "3.9.16"
  },
  "orig_nbformat": 4,
  "vscode": {
   "interpreter": {
    "hash": "207d455156b8d6723e20d57d59e2a03f8298a322056230ecb430fc9cf13ca6af"
   }
  }
 },
 "nbformat": 4,
 "nbformat_minor": 2
}
